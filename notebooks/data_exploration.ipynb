{
 "cells": [
  {
   "cell_type": "code",
   "execution_count": 1,
   "metadata": {},
   "outputs": [],
   "source": [
    "import pandas as pd\n",
    "import leafmap\n",
    "import geopandas as gpd\n",
    "import folium\n",
    "import seaborn as sns\n",
    "import sys"
   ]
  },
  {
   "cell_type": "code",
   "execution_count": 2,
   "metadata": {},
   "outputs": [],
   "source": [
    "data = pd.read_csv('../../data/EnergyAdinelsa/consumo energia 202407.csv', sep=';')\n",
    "\n",
    "# Load the shapefile using geopandas\n",
    "in_shp = \"../../data/DATOS_GEOGRAFICOS_PERU/03_DISTRITOS/LIMITE_DISTRITAL.shp\"\n",
    "gdf = gpd.read_file(in_shp)\n"
   ]
  },
  {
   "cell_type": "code",
   "execution_count": 3,
   "metadata": {},
   "outputs": [
    {
     "data": {
      "text/html": [
       "<div>\n",
       "<style scoped>\n",
       "    .dataframe tbody tr th:only-of-type {\n",
       "        vertical-align: middle;\n",
       "    }\n",
       "\n",
       "    .dataframe tbody tr th {\n",
       "        vertical-align: top;\n",
       "    }\n",
       "\n",
       "    .dataframe thead th {\n",
       "        text-align: right;\n",
       "    }\n",
       "</style>\n",
       "<table border=\"1\" class=\"dataframe\">\n",
       "  <thead>\n",
       "    <tr style=\"text-align: right;\">\n",
       "      <th></th>\n",
       "      <th>FECHA_CORTE</th>\n",
       "      <th>PERIODO_FACTURACION</th>\n",
       "      <th>UUID</th>\n",
       "      <th>UBIGEO</th>\n",
       "      <th>DEPARTAMENTO</th>\n",
       "      <th>PROVINCIA</th>\n",
       "      <th>DISTRITO</th>\n",
       "      <th>LOCALIDAD</th>\n",
       "      <th>TARIFA</th>\n",
       "      <th>FECHA_INICIO</th>\n",
       "      <th>CONSUMO_KW</th>\n",
       "      <th>POTENCIA_CONTRATADA</th>\n",
       "      <th>MONTO_SOLES</th>\n",
       "      <th>FASE</th>\n",
       "      <th>CODIGO_CIU</th>\n",
       "    </tr>\n",
       "  </thead>\n",
       "  <tbody>\n",
       "    <tr>\n",
       "      <th>0</th>\n",
       "      <td>20240809</td>\n",
       "      <td>202407</td>\n",
       "      <td>C202201170199124880220119</td>\n",
       "      <td>151011</td>\n",
       "      <td>LIMA</td>\n",
       "      <td>YAUYOS</td>\n",
       "      <td>COLONIA</td>\n",
       "      <td>COLONIA</td>\n",
       "      <td>BT5B</td>\n",
       "      <td>20220117</td>\n",
       "      <td>199.0</td>\n",
       "      <td>1.0</td>\n",
       "      <td>237.3</td>\n",
       "      <td>MONOFASICO</td>\n",
       "      <td>T9700</td>\n",
       "    </tr>\n",
       "    <tr>\n",
       "      <th>1</th>\n",
       "      <td>20240809</td>\n",
       "      <td>202407</td>\n",
       "      <td>C202203060199127920220314</td>\n",
       "      <td>151001</td>\n",
       "      <td>LIMA</td>\n",
       "      <td>YAUYOS</td>\n",
       "      <td>YAUYOS</td>\n",
       "      <td>YAUYOS</td>\n",
       "      <td>BT5B</td>\n",
       "      <td>20220306</td>\n",
       "      <td>12.0</td>\n",
       "      <td>3.0</td>\n",
       "      <td>38.8</td>\n",
       "      <td>MONOFASICO</td>\n",
       "      <td>T9700</td>\n",
       "    </tr>\n",
       "    <tr>\n",
       "      <th>2</th>\n",
       "      <td>20240809</td>\n",
       "      <td>202407</td>\n",
       "      <td>C202204160199130660220412</td>\n",
       "      <td>151003</td>\n",
       "      <td>LIMA</td>\n",
       "      <td>YAUYOS</td>\n",
       "      <td>AYAUCA</td>\n",
       "      <td>CONCUBAY</td>\n",
       "      <td>BT5B</td>\n",
       "      <td>20220416</td>\n",
       "      <td>38.0</td>\n",
       "      <td>3.0</td>\n",
       "      <td>35.9</td>\n",
       "      <td>MONOFASICO</td>\n",
       "      <td>T9700</td>\n",
       "    </tr>\n",
       "  </tbody>\n",
       "</table>\n",
       "</div>"
      ],
      "text/plain": [
       "   FECHA_CORTE  PERIODO_FACTURACION                       UUID  UBIGEO  \\\n",
       "0     20240809               202407  C202201170199124880220119  151011   \n",
       "1     20240809               202407  C202203060199127920220314  151001   \n",
       "2     20240809               202407  C202204160199130660220412  151003   \n",
       "\n",
       "  DEPARTAMENTO PROVINCIA DISTRITO LOCALIDAD TARIFA  FECHA_INICIO  CONSUMO_KW  \\\n",
       "0         LIMA    YAUYOS  COLONIA   COLONIA   BT5B      20220117       199.0   \n",
       "1         LIMA    YAUYOS   YAUYOS    YAUYOS   BT5B      20220306        12.0   \n",
       "2         LIMA    YAUYOS   AYAUCA  CONCUBAY   BT5B      20220416        38.0   \n",
       "\n",
       "   POTENCIA_CONTRATADA  MONTO_SOLES        FASE CODIGO_CIU  \n",
       "0                  1.0        237.3  MONOFASICO      T9700  \n",
       "1                  3.0         38.8  MONOFASICO      T9700  \n",
       "2                  3.0         35.9  MONOFASICO      T9700  "
      ]
     },
     "execution_count": 3,
     "metadata": {},
     "output_type": "execute_result"
    }
   ],
   "source": [
    "data.head(3)"
   ]
  },
  {
   "cell_type": "code",
   "execution_count": 4,
   "metadata": {},
   "outputs": [],
   "source": [
    "data.drop(axis=1, columns=['FECHA_CORTE', 'FECHA_INICIO'], inplace=True)"
   ]
  },
  {
   "cell_type": "code",
   "execution_count": 5,
   "metadata": {},
   "outputs": [
    {
     "name": "stdout",
     "output_type": "stream",
     "text": [
      "<class 'pandas.core.frame.DataFrame'>\n",
      "RangeIndex: 80586 entries, 0 to 80585\n",
      "Data columns (total 13 columns):\n",
      " #   Column               Non-Null Count  Dtype  \n",
      "---  ------               --------------  -----  \n",
      " 0   PERIODO_FACTURACION  80586 non-null  int64  \n",
      " 1   UUID                 80586 non-null  object \n",
      " 2   UBIGEO               80586 non-null  int64  \n",
      " 3   DEPARTAMENTO         80586 non-null  object \n",
      " 4   PROVINCIA            80586 non-null  object \n",
      " 5   DISTRITO             80586 non-null  object \n",
      " 6   LOCALIDAD            80586 non-null  object \n",
      " 7   TARIFA               80586 non-null  object \n",
      " 8   CONSUMO_KW           80586 non-null  float64\n",
      " 9   POTENCIA_CONTRATADA  80586 non-null  float64\n",
      " 10  MONTO_SOLES          80586 non-null  float64\n",
      " 11  FASE                 80586 non-null  object \n",
      " 12  CODIGO_CIU           80586 non-null  object \n",
      "dtypes: float64(3), int64(2), object(8)\n",
      "memory usage: 8.0+ MB\n"
     ]
    }
   ],
   "source": [
    "data.info()"
   ]
  },
  {
   "cell_type": "code",
   "execution_count": 6,
   "metadata": {},
   "outputs": [
    {
     "data": {
      "text/plain": [
       "Index(['PERIODO_FACTURACION', 'UUID', 'UBIGEO', 'DEPARTAMENTO', 'PROVINCIA',\n",
       "       'DISTRITO', 'LOCALIDAD', 'TARIFA', 'CONSUMO_KW', 'POTENCIA_CONTRATADA',\n",
       "       'MONTO_SOLES', 'FASE', 'CODIGO_CIU'],\n",
       "      dtype='object')"
      ]
     },
     "execution_count": 6,
     "metadata": {},
     "output_type": "execute_result"
    }
   ],
   "source": [
    "data.columns"
   ]
  },
  {
   "cell_type": "code",
   "execution_count": 23,
   "metadata": {},
   "outputs": [],
   "source": [
    "df = data.groupby(['DEPARTAMENTO', 'PROVINCIA', 'DISTRITO', 'POTENCIA_CONTRATADA'], as_index=False).agg({'CONSUMO_KW': 'mean', 'MONTO_SOLES': 'mean'})"
   ]
  },
  {
   "cell_type": "code",
   "execution_count": 18,
   "metadata": {},
   "outputs": [
    {
     "data": {
      "text/plain": [
       "Index(['OBJECTID', 'UBIGEO', 'CCDD', 'CCPP', 'CCDI', 'DEPARTAMENTO',\n",
       "       'PROVINCIA', 'DISTRITO', 'geometry'],\n",
       "      dtype='object')"
      ]
     },
     "execution_count": 18,
     "metadata": {},
     "output_type": "execute_result"
    }
   ],
   "source": [
    "gdf.columns"
   ]
  },
  {
   "cell_type": "code",
   "execution_count": 19,
   "metadata": {},
   "outputs": [],
   "source": [
    "gdf.rename(columns={'DEPARTAMEN':'DEPARTAMENTO'}, inplace=True)"
   ]
  },
  {
   "cell_type": "code",
   "execution_count": 16,
   "metadata": {},
   "outputs": [
    {
     "data": {
      "text/plain": [
       "Index(['OBJECTID', 'UBIGEO', 'CCDD', 'CCPP', 'CCDI', 'DEPARTAMENTO',\n",
       "       'PROVINCIA', 'DISTRITO', 'geometry'],\n",
       "      dtype='object')"
      ]
     },
     "execution_count": 16,
     "metadata": {},
     "output_type": "execute_result"
    }
   ],
   "source": [
    "gdf.columns"
   ]
  },
  {
   "cell_type": "code",
   "execution_count": 22,
   "metadata": {},
   "outputs": [],
   "source": [
    "gdf.drop(columns=['OBJECTID', 'UBIGEO', 'CCDD', 'CCPP', 'CCDI'], inplace=True)"
   ]
  },
  {
   "cell_type": "code",
   "execution_count": 24,
   "metadata": {},
   "outputs": [],
   "source": [
    "df = gdf.merge(df, on=['DEPARTAMENTO', 'PROVINCIA', 'DISTRITO'], how='inner')"
   ]
  },
  {
   "cell_type": "code",
   "execution_count": 27,
   "metadata": {},
   "outputs": [
    {
     "data": {
      "text/plain": [
       "['xyz.Esri.WorldStreetMap',\n",
       " 'xyz.Esri.WorldTopoMap',\n",
       " 'xyz.Esri.WorldImagery',\n",
       " 'xyz.Esri.WorldTerrain',\n",
       " 'xyz.Esri.WorldShadedRelief',\n",
       " 'xyz.Esri.WorldPhysical',\n",
       " 'xyz.Esri.OceanBasemap',\n",
       " 'xyz.Esri.NatGeoWorldMap',\n",
       " 'xyz.Esri.WorldGrayCanvas',\n",
       " 'xyz.Esri.ArcticImagery',\n",
       " 'xyz.Esri.ArcticOceanBase',\n",
       " 'xyz.Esri.ArcticOceanReference',\n",
       " 'xyz.Esri.AntarcticImagery',\n",
       " 'xyz.Esri.AntarcticBasemap']"
      ]
     },
     "execution_count": 27,
     "metadata": {},
     "output_type": "execute_result"
    }
   ],
   "source": [
    "leafmap.search_xyz_services(keyword=\"esri\")"
   ]
  },
  {
   "cell_type": "code",
   "execution_count": 26,
   "metadata": {},
   "outputs": [],
   "source": [
    "df.to_file('../data/data.shp', driver='ESRI Shapefile')\n",
    "# Convert and save it as GeoJSON\n",
    "#geojson_output_path = \"data.geojson\"\n",
    "#df.to_file(geojson_output_path, driver=\"GeoJSON\")"
   ]
  },
  {
   "cell_type": "code",
   "execution_count": 30,
   "metadata": {},
   "outputs": [],
   "source": [
    "gpd.read_file('../data/data.shp').drop(columns=['OBJECTID', 'UBIGEO', 'CCDD', 'CCPP', 'CCDI']).to_file('../data/data.shp', driver='ESRI Shapefile')"
   ]
  },
  {
   "cell_type": "code",
   "execution_count": 10,
   "metadata": {},
   "outputs": [
    {
     "data": {
      "application/vnd.jupyter.widget-view+json": {
       "model_id": "169d9c080aaf4e34b2fa21e312744fe9",
       "version_major": 2,
       "version_minor": 0
      },
      "text/plain": [
       "Map(center=[-12.046374, -77.042793], controls=(ZoomControl(options=['position', 'zoom_in_text', 'zoom_in_title…"
      ]
     },
     "execution_count": 10,
     "metadata": {},
     "output_type": "execute_result"
    }
   ],
   "source": [
    "# Create a Leafmap map centered at specified coordinates\n",
    "m = leafmap.Map(center=[-12.046374, -77.042793], zoom=5)\n",
    "\n",
    "# Add the choropleth layer\n",
    "m.add_data(\n",
    "    data=df,\n",
    "    column='POTENCIA_CONTRATADA',\n",
    "    scheme=\"NaturalBreaks\", \n",
    "    cmap=\"Blues\", \n",
    "    add_legend=True,\n",
    "    legend_kwds={\"fmt\": \"{:.0f}\"},\n",
    "    legend_title=\"Population\",\n",
    "    )\n",
    "\n",
    "# Add layer control to the map\n",
    "m"
   ]
  }
 ],
 "metadata": {
  "kernelspec": {
   "display_name": ".env",
   "language": "python",
   "name": "python3"
  },
  "language_info": {
   "codemirror_mode": {
    "name": "ipython",
    "version": 3
   },
   "file_extension": ".py",
   "mimetype": "text/x-python",
   "name": "python",
   "nbconvert_exporter": "python",
   "pygments_lexer": "ipython3",
   "version": "3.10.12"
  }
 },
 "nbformat": 4,
 "nbformat_minor": 2
}
